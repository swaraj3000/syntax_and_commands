{
 "cells": [
  {
   "cell_type": "markdown",
   "id": "b3f5ec19",
   "metadata": {},
   "source": [
    "[Reference about the problem](https://towardsdatascience.com/mobile-ads-click-through-rate-ctr-prediction-44fdac40c6ff)\n",
    "\n",
    "[Hashing Trick](https://booking.ai/dont-be-tricked-by-the-hashing-trick-192a6aae3087)\n",
    "\n",
    "[Factorization](https://medium.com/@vinitvssingh5/explaining-the-field-aware-factorization-machines-ffms-for-ctr-prediction-2e98b2949dd6)\n",
    "\n",
    "[Discussion around FFM Kaggle](https://www.kaggle.com/competitions/avazu-ctr-prediction/discussion/12608)\n",
    "\n",
    "[DeepCTR Torch](https://www.kaggle.com/code/leejunseok97/deepfm-deepctr-torch)\n",
    "\n",
    "[Trying Different Models](https://www.kaggle.com/code/sharanharsoor/ctr-analysis-of-different-ml-models#Building-basic-models-[no-feature-engineering])\n",
    "\n",
    "**In the last link he talks about using label encoder, I mean it is an interesting take on it. Given that we have so many categories**"
   ]
  },
  {
   "cell_type": "markdown",
   "id": "385738cb",
   "metadata": {},
   "source": [
    "**An answer from GPT when I gave it a prompt from a particular kaggle link, it is a very interesting insight GPT provided**\n",
    "\n",
    "\n",
    "[Prompt](https://www.kaggle.com/competitions/avazu-ctr-prediction/discussion/10819)\n",
    "\n",
    "\n",
    "The provided information offers several insights into the characteristics of the training and testing datasets, potentially guiding data preprocessing, feature engineering, and model validation strategies. Here's an inference from the given data:\n",
    "\n",
    "1. **High Cardinality in Identifiers**: Both `id`, `device_id`, and `device_ip` columns have a very high number of unique values, with each value in the test set being unique (`device_id` and `device_ip` have a significant proportion of unique values not present in the train set). This suggests these fields act as identifiers rather than features that would generalize well across unseen data. Models might overfit if these are used directly as features without proper regularization or feature engineering.\n",
    "\n",
    "2. **Temporal Feature `hour`**: The `hour` feature has a completely different set of values between the train and test sets, indicating a non-overlapping time period. This discrepancy suggests the importance of temporal dynamics in the data and might necessitate a cross-validation strategy that respects time, such as time-based splitting, to better mimic the train-test split and evaluate model performance more realistically.\n",
    "\n",
    "3. **Categorical Variables with Different Levels**: Fields like `site_id`, `site_domain`, `app_id`, `app_domain`, and `app_category` show a substantial number of categories not present in the other dataset (test vs. train). This could pose a challenge for models that rely on these categorical variables, as they would need to handle unseen categories in the test set. Techniques like embedding layers in neural networks, one-hot encoding with a fallback category for unseen data, or even target encoding might be necessary.\n",
    "\n",
    "4. **Potential Numeric Ranges**: Columns `C17` and `C20` (and possibly `C22` and `C24` based on the unique counts and context) seem to have characteristics not typical of categorical variables, suggesting they might represent ranges or continuous variables despite being encoded as integers. This could imply that treating them as numeric features or discretizing them into bins based on distribution might be more appropriate.\n",
    "\n",
    "5. **Missing Values**: The mention of missing values in almost every column indicates the need for robust preprocessing to handle them. Strategies might include imputation, using missing indicators, or leveraging models that can inherently handle missing values (like certain tree-based models).\n",
    "\n",
    "6. **Feature Engineering and Selection**: Given the discrepancies in categorical levels between train and test sets and the presence of high cardinality features, feature engineering (e.g., creating aggregate features, using embeddings) and careful feature selection will be crucial. Ensuring that the model doesn't rely on features that won't generalize well to unseen data is key.\n",
    "\n",
    "7. **Validation Strategy**: The differences in hour distribution and the high number of unique device identifiers suggest that a simple random split might not be the best validation strategy. Instead, a more sophisticated approach that mirrors the train-test split's temporal and structural characteristics, possibly using domain knowledge to create synthetic features that bridge the gap between the training and testing distributions, would be beneficial.\n",
    "\n",
    "In summary, the analysis highlights the need for careful preprocessing, feature engineering, validation strategy adjustment, and handling of high cardinality and missing values to build a model that generalizes well from the training data to the unseen test data."
   ]
  },
  {
   "cell_type": "code",
   "execution_count": null,
   "id": "8f1ac5d2",
   "metadata": {},
   "outputs": [],
   "source": []
  },
  {
   "cell_type": "markdown",
   "id": "f198cf0f",
   "metadata": {},
   "source": [
    "What is EDA - \n",
    "* EDA is asking questions. \n",
    "\n",
    "Questions like-\n",
    "* What makes the person click"
   ]
  },
  {
   "cell_type": "code",
   "execution_count": 122,
   "id": "858217fa",
   "metadata": {
    "collapsed": true
   },
   "outputs": [
    {
     "name": "stdout",
     "output_type": "stream",
     "text": [
      "Collecting seaborn\n",
      "  Downloading seaborn-0.13.2-py3-none-any.whl (294 kB)\n",
      "\u001b[K     |████████████████████████████████| 294 kB 404 kB/s eta 0:00:01\n",
      "\u001b[?25hRequirement already satisfied: numpy!=1.24.0,>=1.20 in /Users/swarajjain/anaconda3/envs/ml/lib/python3.10/site-packages (from seaborn) (1.23.0)\n",
      "Requirement already satisfied: matplotlib!=3.6.1,>=3.4 in /Users/swarajjain/anaconda3/envs/ml/lib/python3.10/site-packages (from seaborn) (3.5.2)\n",
      "Requirement already satisfied: pandas>=1.2 in /Users/swarajjain/anaconda3/envs/ml/lib/python3.10/site-packages (from seaborn) (1.4.3)\n",
      "Requirement already satisfied: kiwisolver>=1.0.1 in /Users/swarajjain/anaconda3/envs/ml/lib/python3.10/site-packages (from matplotlib!=3.6.1,>=3.4->seaborn) (1.4.3)\n",
      "Requirement already satisfied: packaging>=20.0 in /Users/swarajjain/anaconda3/envs/ml/lib/python3.10/site-packages (from matplotlib!=3.6.1,>=3.4->seaborn) (21.3)\n",
      "Requirement already satisfied: cycler>=0.10 in /Users/swarajjain/anaconda3/envs/ml/lib/python3.10/site-packages (from matplotlib!=3.6.1,>=3.4->seaborn) (0.11.0)\n",
      "Requirement already satisfied: pillow>=6.2.0 in /Users/swarajjain/anaconda3/envs/ml/lib/python3.10/site-packages (from matplotlib!=3.6.1,>=3.4->seaborn) (9.1.1)\n",
      "Requirement already satisfied: pyparsing>=2.2.1 in /Users/swarajjain/anaconda3/envs/ml/lib/python3.10/site-packages (from matplotlib!=3.6.1,>=3.4->seaborn) (3.0.4)\n",
      "Requirement already satisfied: python-dateutil>=2.7 in /Users/swarajjain/anaconda3/envs/ml/lib/python3.10/site-packages (from matplotlib!=3.6.1,>=3.4->seaborn) (2.8.2)\n",
      "Requirement already satisfied: fonttools>=4.22.0 in /Users/swarajjain/anaconda3/envs/ml/lib/python3.10/site-packages (from matplotlib!=3.6.1,>=3.4->seaborn) (4.33.3)\n",
      "Requirement already satisfied: pytz>=2020.1 in /Users/swarajjain/anaconda3/envs/ml/lib/python3.10/site-packages (from pandas>=1.2->seaborn) (2022.1)\n",
      "Requirement already satisfied: six>=1.5 in /Users/swarajjain/anaconda3/envs/ml/lib/python3.10/site-packages (from python-dateutil>=2.7->matplotlib!=3.6.1,>=3.4->seaborn) (1.16.0)\n",
      "Installing collected packages: seaborn\n",
      "Successfully installed seaborn-0.13.2\n"
     ]
    }
   ],
   "source": [
    "!pip3 install seaborn "
   ]
  },
  {
   "cell_type": "code",
   "execution_count": 62,
   "id": "86a79d12",
   "metadata": {},
   "outputs": [],
   "source": [
    "import pandas as pd\n",
    "import numpy as np\n",
    "from scipy.stats import boxcox\n",
    "import matplotlib.pyplot as plt\n",
    "import random\n",
    "import seaborn as sns\n",
    "from matplotlib.ticker import FuncFormatter"
   ]
  },
  {
   "cell_type": "code",
   "execution_count": null,
   "id": "203a280b",
   "metadata": {},
   "outputs": [],
   "source": [
    "# Read the csv \n",
    "#Check the data distribution\n",
    "# Check the number of columns"
   ]
  },
  {
   "cell_type": "code",
   "execution_count": 411,
   "id": "c2947c8b",
   "metadata": {},
   "outputs": [],
   "source": [
    "pd.options.display.float_format = '{:.4f}'.format"
   ]
  },
  {
   "cell_type": "code",
   "execution_count": 493,
   "id": "bc54af86",
   "metadata": {},
   "outputs": [],
   "source": [
    "total_number_of_samples = 40428967\n",
    "sample_size = 10000000"
   ]
  },
  {
   "cell_type": "code",
   "execution_count": 494,
   "id": "67554ef3",
   "metadata": {},
   "outputs": [],
   "source": [
    "sample = sorted(random.sample(range(1,total_number_of_samples),total_number_of_samples-sample_size))"
   ]
  },
  {
   "cell_type": "code",
   "execution_count": 53,
   "id": "4e382b0f",
   "metadata": {},
   "outputs": [
    {
     "data": {
      "text/plain": [
       "30428967"
      ]
     },
     "execution_count": 53,
     "metadata": {},
     "output_type": "execute_result"
    }
   ],
   "source": [
    "len(sample)"
   ]
  },
  {
   "cell_type": "code",
   "execution_count": 495,
   "id": "ee344da0",
   "metadata": {
    "scrolled": true
   },
   "outputs": [
    {
     "name": "stderr",
     "output_type": "stream",
     "text": [
      "/var/folders/ph/nnm9q7h11bx4kbkx6gp4k2vc0000gn/T/ipykernel_82626/956508743.py:1: FutureWarning: The pandas.datetime class is deprecated and will be removed from pandas in a future version. Import from datetime module instead.\n",
      "  date_parser = lambda val: pd.datetime.strptime(val,\"%y%m%d%H\")\n"
     ]
    }
   ],
   "source": [
    "date_parser = lambda val: pd.datetime.strptime(val,\"%y%m%d%H\")\n",
    "train = pd.read_csv('../data/train',skiprows=sample,parse_dates=['hour'],date_parser=date_parser)"
   ]
  },
  {
   "cell_type": "code",
   "execution_count": 496,
   "id": "87de3153",
   "metadata": {},
   "outputs": [],
   "source": [
    "train.to_csv('../data/train_subset.csv',index=False)"
   ]
  },
  {
   "cell_type": "markdown",
   "id": "08c78604",
   "metadata": {},
   "source": [
    "### **Columns** - \n",
    "1. **id** - User Id - Count define the people who visited the website. <p></p>\n",
    "\n",
    "2. **click** - It's the final **Label** we want to predict. 1 means they have clicked the website and 0 means they didn't click the website <p></p>\n",
    "3. **hour** - At which hour the user visited the website (It is not the time at which they clicked, apparently we are not checking that. It can be a good metric to check it though, as it can give us after how much time, the user has clicked the website. <p></p>\n",
    "4. **C1** - It is an **anonymized categorical variable**<p></p>\n",
    "5. **Banner_Pos** - It is the position of the Advertisment. On which position the ad is placed. <p></p> \n",
    "6. **Site_Id** - <p></p>\n",
    "7. **Site_Domain** - <p></p> \n",
    "8. **Site_Category** - <p></p>\n",
    "9. **App Id** - <p></p> \n",
    "10. **App Domain** - <p></p>\n",
    "11. **App Category** - <p></p>\n",
    "12. **Device Id** - <p></p>\n",
    "13. **Device IP** - <p></p>\n",
    "14. **Device Model** - <p></p>\n",
    "15. **Device Type** - <p></p>\n",
    "16. **Device Connc Type** - <p></p>\n",
    "17. **C14 - C21** - \n"
   ]
  },
  {
   "cell_type": "markdown",
   "id": "14dc67f1",
   "metadata": {},
   "source": [
    "### Questions\n",
    "\n",
    "Q1) Whether it is a balanced data or imbalanced data? This will tell me whether the users are clicking the ad or not. --> It's a **Highly Imbalanced DataSet** with 83% as non-clicked ads and 17% as clicked ads.\n",
    "\n",
    "Q2) At which hour, or which day, most clicks happened. --> On which day there was lot of visits. And visits to click through rate. That is, the person who visited the website clicked on the Ads. \n",
    "\n",
    "\n",
    "Q2) Banner position --> For which position the users are clicking my ad, is it the same throughput or different. \n",
    "\n",
    "Q3) If there would be a gender, then we can use --> Is my Ad relevant for only one gender that's male or female that ratio. \n",
    "\n",
    "Q4) At which hour or at which time, the user interacts with the Ad or the clickrate increases? Or does it remains the same? \n",
    "\n",
    "Q5) If there is a textual data, what words are triggering for the click? \n",
    "\n",
    "Q6)There is a website and then, there is an app? So does app has more click percentage or website? \n",
    "\n",
    "Q5) There are different site domains, in that website also, when I show the Ads on different websites, on which website or which domain my engagement is higher. For example- amazon ads, does the user click them when they are shown on a tech.org domain or more on some other domain. \n",
    "\n",
    "Q6) Site category --> News, blog, business website, forum, media, educational. A distribution whether it is same or different. \n",
    "\n",
    "Q7) Similar for App category --> Whether for which category we have how much click through\n",
    "\n",
    "### Challenge\n",
    "* Is I don't know about the cateogrical variable and what type of categories they are. \n",
    "* Similarly, how does device play a role in click through rate? \n",
    "* And the big question is, how to handle the problem when some data is missing from my test data? Like some category is missing, some value is missing \n",
    "\n",
    "We can ask GPT as last resort. But for now, let's plot the graphs and check it out. "
   ]
  },
  {
   "cell_type": "markdown",
   "id": "01b4657b",
   "metadata": {},
   "source": [
    "***Q1)  Whether it is a balanced data or imbalanced data? This will tell me whether the users are clicking the ad or not.***"
   ]
  },
  {
   "cell_type": "code",
   "execution_count": 64,
   "id": "7d7539d7",
   "metadata": {},
   "outputs": [],
   "source": [
    "# Define a function to format your numbers\n",
    "def plain_formatter(x, pos):\n",
    "    return f'{int(x)}'"
   ]
  },
  {
   "cell_type": "code",
   "execution_count": 68,
   "id": "139c6350",
   "metadata": {},
   "outputs": [
    {
     "name": "stderr",
     "output_type": "stream",
     "text": [
      "/var/folders/ph/nnm9q7h11bx4kbkx6gp4k2vc0000gn/T/ipykernel_82626/3998492125.py:1: FutureWarning: \n",
      "\n",
      "Passing `palette` without assigning `hue` is deprecated and will be removed in v0.14.0. Assign the `x` variable to `hue` and set `legend=False` for the same effect.\n",
      "\n",
      "  sns.countplot(data=train,x=\"click\",palette='hls',stat=\"percent\")\n"
     ]
    },
    {
     "data": {
      "image/png": "[encoded data removed]",
      "text/plain": [
       "<Figure size 432x288 with 1 Axes>"
      ]
     },
     "metadata": {
      "needs_background": "light"
     },
     "output_type": "display_data"
    }
   ],
   "source": [
    "sns.countplot(data=train,x=\"click\",palette='hls',stat=\"percent\")\n",
    "ax = plt.gca()\n",
    "# Apply the formatter to the y-axis\n",
    "ax.yaxis.set_major_formatter(FuncFormatter(plain_formatter))"
   ]
  },
  {
   "cell_type": "code",
   "execution_count": 79,
   "id": "279d8cba",
   "metadata": {},
   "outputs": [
    {
     "data": {
      "text/plain": [
       "0   83\n",
       "1   17\n",
       "Name: click, dtype: float64"
      ]
     },
     "execution_count": 79,
     "metadata": {},
     "output_type": "execute_result"
    }
   ],
   "source": [
    "(train['click'].value_counts()/len(train))*100"
   ]
  },
  {
   "cell_type": "markdown",
   "id": "13ea4c51",
   "metadata": {},
   "source": [
    "**Ans --> It's a Highly Imbalanced DataSet with 83% as non-clicked ads and 17% as clicked ads.**"
   ]
  },
  {
   "cell_type": "code",
   "execution_count": null,
   "id": "97dc0f1c",
   "metadata": {},
   "outputs": [],
   "source": []
  },
  {
   "cell_type": "markdown",
   "id": "eff147d6",
   "metadata": {},
   "source": [
    "***Q2) On which day most***\n",
    "\n",
    "1) visit happened.\n",
    "\n",
    "2) Ads got clicked. \n"
   ]
  },
  {
   "cell_type": "code",
   "execution_count": 78,
   "id": "ab2d4f23",
   "metadata": {},
   "outputs": [
    {
     "name": "stderr",
     "output_type": "stream",
     "text": [
      "/var/folders/ph/nnm9q7h11bx4kbkx6gp4k2vc0000gn/T/ipykernel_82626/1630598468.py:1: FutureWarning: Treating datetime data as categorical rather than numeric in `.describe` is deprecated and will be removed in a future version of pandas. Specify `datetime_is_numeric=True` to silence this warning and adopt the future behavior now.\n",
      "  train.hour.describe()\n"
     ]
    },
    {
     "data": {
      "text/plain": [
       "count                10000000\n",
       "unique                    240\n",
       "top       2014-10-22 09:00:00\n",
       "freq                   110767\n",
       "first     2014-10-21 00:00:00\n",
       "last      2014-10-30 23:00:00\n",
       "Name: hour, dtype: object"
      ]
     },
     "execution_count": 78,
     "metadata": {},
     "output_type": "execute_result"
    }
   ],
   "source": [
    "train.hour.describe()"
   ]
  },
  {
   "cell_type": "markdown",
   "id": "437b9ffe",
   "metadata": {},
   "source": [
    "* Now I want that all days, get aggregated. If Day term is same, so they should aggregate. "
   ]
  },
  {
   "cell_type": "code",
   "execution_count": 134,
   "id": "35a1cf1c",
   "metadata": {},
   "outputs": [],
   "source": [
    "train['day_of_week'] = train['hour'].dt.dayofweek\n",
    "train['day'] = train['hour'].dt.day\n",
    "train['time'] = train['hour'].dt.hour"
   ]
  },
  {
   "cell_type": "code",
   "execution_count": 135,
   "id": "001bcf73",
   "metadata": {},
   "outputs": [],
   "source": [
    "train['day_of_week'] = train['day_of_week'].map({\n",
    "    0: 'Monday',\n",
    "    1: 'Tuesday',\n",
    "    2: 'Wednesday',\n",
    "    3: 'Thursday',\n",
    "    4: 'Friday',\n",
    "    5: 'Saturday',\n",
    "    6: 'Sunday'\n",
    "})"
   ]
  },
  {
   "cell_type": "code",
   "execution_count": 327,
   "id": "590b9cdc",
   "metadata": {},
   "outputs": [
    {
     "name": "stderr",
     "output_type": "stream",
     "text": [
      "/var/folders/ph/nnm9q7h11bx4kbkx6gp4k2vc0000gn/T/ipykernel_82626/2329784079.py:1: FutureWarning: \n",
      "\n",
      "Passing `palette` without assigning `hue` is deprecated and will be removed in v0.14.0. Assign the `x` variable to `hue` and set `legend=False` for the same effect.\n",
      "\n",
      "  sns.countplot(data=train,x='day_of_week',palette='hls')\n"
     ]
    },
    {
     "data": {
      "image/png": "[encoded data removed]",
      "text/plain": [
       "<Figure size 432x288 with 1 Axes>"
      ]
     },
     "metadata": {
      "needs_background": "light"
     },
     "output_type": "display_data"
    }
   ],
   "source": [
    "sns.countplot(data=train,x='day_of_week',palette='hls')\n",
    "\n",
    "#rotate x-axis labels\n",
    "_,_= plt.xticks(rotation=45)"
   ]
  },
  {
   "cell_type": "markdown",
   "id": "2240198a",
   "metadata": {},
   "source": [
    "**Analysis**\n",
    "* Maximum number of impressions or number of visits are more on Weekdays that too specially on **Tuesday and Wednesday**.\n",
    "\n",
    "* On weekends the visit are less that's **Friday, Saturday, Sunday and Monday**"
   ]
  },
  {
   "cell_type": "code",
   "execution_count": null,
   "id": "3309d9fe",
   "metadata": {},
   "outputs": [],
   "source": []
  },
  {
   "cell_type": "code",
   "execution_count": 318,
   "id": "29c1a3d2",
   "metadata": {},
   "outputs": [],
   "source": [
    "x_day_of_week = train.groupby(['day_of_week'],as_index=False)[['click']].value_counts()\n",
    "x_day_of_week_1 = x_day_of_week[x_day_of_week.click==1].reset_index(drop=True)"
   ]
  },
  {
   "cell_type": "code",
   "execution_count": 323,
   "id": "41ff7546",
   "metadata": {},
   "outputs": [
    {
     "data": {
      "text/html": [
       "<div>\n",
       "<style scoped>\n",
       "    .dataframe tbody tr th:only-of-type {\n",
       "        vertical-align: middle;\n",
       "    }\n",
       "\n",
       "    .dataframe tbody tr th {\n",
       "        vertical-align: top;\n",
       "    }\n",
       "\n",
       "    .dataframe thead th {\n",
       "        text-align: right;\n",
       "    }\n",
       "</style>\n",
       "<table border=\"1\" class=\"dataframe\">\n",
       "  <thead>\n",
       "    <tr style=\"text-align: right;\">\n",
       "      <th></th>\n",
       "      <th>day_of_week</th>\n",
       "      <th>click</th>\n",
       "      <th>count</th>\n",
       "      <th>ctr</th>\n",
       "    </tr>\n",
       "  </thead>\n",
       "  <tbody>\n",
       "    <tr>\n",
       "      <th>0</th>\n",
       "      <td>Friday</td>\n",
       "      <td>1</td>\n",
       "      <td>144016</td>\n",
       "      <td>17</td>\n",
       "    </tr>\n",
       "    <tr>\n",
       "      <th>1</th>\n",
       "      <td>Monday</td>\n",
       "      <td>1</td>\n",
       "      <td>144642</td>\n",
       "      <td>18</td>\n",
       "    </tr>\n",
       "    <tr>\n",
       "      <th>2</th>\n",
       "      <td>Saturday</td>\n",
       "      <td>1</td>\n",
       "      <td>151702</td>\n",
       "      <td>18</td>\n",
       "    </tr>\n",
       "    <tr>\n",
       "      <th>3</th>\n",
       "      <td>Sunday</td>\n",
       "      <td>1</td>\n",
       "      <td>172770</td>\n",
       "      <td>18</td>\n",
       "    </tr>\n",
       "    <tr>\n",
       "      <th>4</th>\n",
       "      <td>Thursday</td>\n",
       "      <td>1</td>\n",
       "      <td>352178</td>\n",
       "      <td>18</td>\n",
       "    </tr>\n",
       "    <tr>\n",
       "      <th>5</th>\n",
       "      <td>Tuesday</td>\n",
       "      <td>1</td>\n",
       "      <td>376641</td>\n",
       "      <td>16</td>\n",
       "    </tr>\n",
       "    <tr>\n",
       "      <th>6</th>\n",
       "      <td>Wednesday</td>\n",
       "      <td>1</td>\n",
       "      <td>356475</td>\n",
       "      <td>16</td>\n",
       "    </tr>\n",
       "  </tbody>\n",
       "</table>\n",
       "</div>"
      ],
      "text/plain": [
       "  day_of_week  click   count  ctr\n",
       "0      Friday      1  144016   17\n",
       "1      Monday      1  144642   18\n",
       "2    Saturday      1  151702   18\n",
       "3      Sunday      1  172770   18\n",
       "4    Thursday      1  352178   18\n",
       "5     Tuesday      1  376641   16\n",
       "6   Wednesday      1  356475   16"
      ]
     },
     "execution_count": 323,
     "metadata": {},
     "output_type": "execute_result"
    }
   ],
   "source": [
    "x_day_of_week_1['ctr'] = (x_day_of_week_1['count']/train.groupby(['day_of_week'],as_index=False)[['click']].count()['click'])*100\n",
    "x_day_of_week_1"
   ]
  },
  {
   "cell_type": "code",
   "execution_count": 324,
   "id": "7eb6bf10",
   "metadata": {
    "scrolled": false
   },
   "outputs": [
    {
     "name": "stderr",
     "output_type": "stream",
     "text": [
      "/var/folders/ph/nnm9q7h11bx4kbkx6gp4k2vc0000gn/T/ipykernel_82626/3648855022.py:2: FutureWarning: \n",
      "\n",
      "Passing `palette` without assigning `hue` is deprecated and will be removed in v0.14.0. Assign the `x` variable to `hue` and set `legend=False` for the same effect.\n",
      "\n",
      "  sns.barplot(data=x_day_of_week_1,x='day_of_week',y='ctr',palette='hls')\n"
     ]
    },
    {
     "data": {
      "image/png": "[encoded data removed]",
      "text/plain": [
       "<Figure size 720x720 with 1 Axes>"
      ]
     },
     "metadata": {
      "needs_background": "light"
     },
     "output_type": "display_data"
    }
   ],
   "source": [
    "plt.figure(figsize=(10,10))\n",
    "sns.barplot(data=x_day_of_week_1,x='day_of_week',y='ctr',palette='hls')\n",
    "_,_ = plt.xticks(rotation=45)"
   ]
  },
  {
   "cell_type": "markdown",
   "id": "f2b14ede",
   "metadata": {},
   "source": [
    "**Analysis**\n",
    "\n",
    "* Lot of user visit the ads or click on the Ads over weekends. On these days are ad count is low. \n",
    "* On Weekdays i.e. Tuesday and Wednesday not lot of people click our Ads"
   ]
  },
  {
   "cell_type": "code",
   "execution_count": null,
   "id": "b7f016cc",
   "metadata": {},
   "outputs": [],
   "source": []
  },
  {
   "cell_type": "code",
   "execution_count": 239,
   "id": "165fcfbc",
   "metadata": {},
   "outputs": [],
   "source": [
    "x = train.groupby(['day_of_week'],as_index=False)[['click']].value_counts()"
   ]
  },
  {
   "cell_type": "code",
   "execution_count": 251,
   "id": "10768236",
   "metadata": {},
   "outputs": [
    {
     "data": {
      "text/plain": [
       "([0, 1, 2, 3, 4, 5, 6],\n",
       " [Text(0, 0, ''),\n",
       "  Text(0, 0, ''),\n",
       "  Text(0, 0, ''),\n",
       "  Text(0, 0, ''),\n",
       "  Text(0, 0, ''),\n",
       "  Text(0, 0, ''),\n",
       "  Text(0, 0, '')])"
      ]
     },
     "execution_count": 251,
     "metadata": {},
     "output_type": "execute_result"
    },
    {
     "data": {
      "image/png": "[encoded data removed]",
      "text/plain": [
       "<Figure size 432x288 with 1 Axes>"
      ]
     },
     "metadata": {
      "needs_background": "light"
     },
     "output_type": "display_data"
    }
   ],
   "source": [
    "#g = sns.catplot(kind='bar', data=df, x='sex', y='survival_rate', col='class')\n",
    "sns.barplot(data=x,x='day_of_week',y='count',hue='click',palette='hls')\n",
    "plt.xticks(rotation=45)"
   ]
  },
  {
   "cell_type": "code",
   "execution_count": 325,
   "id": "aa780937",
   "metadata": {},
   "outputs": [
    {
     "data": {
      "text/plain": [
       "<AxesSubplot:xlabel='time', ylabel='count'>"
      ]
     },
     "execution_count": 325,
     "metadata": {},
     "output_type": "execute_result"
    },
    {
     "data": {
      "text/plain": [
       "<Figure size 720x720 with 0 Axes>"
      ]
     },
     "metadata": {},
     "output_type": "display_data"
    },
    {
     "data": {
      "image/png": "[encoded data removed]",
      "text/plain": [
       "<Figure size 720x720 with 1 Axes>"
      ]
     },
     "metadata": {
      "needs_background": "light"
     },
     "output_type": "display_data"
    }
   ],
   "source": [
    "plt.figure(figsize=(10,10))\n",
    "x = train.groupby(['time'],as_index=False)[['click']].value_counts()\n",
    "plt.figure(figsize=(10,10))\n",
    "sns.barplot(data=x,x='time',y='count',hue='click',palette='hls')\n",
    "#plt.xticks(rotation=90)"
   ]
  },
  {
   "cell_type": "code",
   "execution_count": 266,
   "id": "c555272b",
   "metadata": {},
   "outputs": [
    {
     "name": "stderr",
     "output_type": "stream",
     "text": [
      "/var/folders/ph/nnm9q7h11bx4kbkx6gp4k2vc0000gn/T/ipykernel_82626/3609414562.py:2: FutureWarning: \n",
      "\n",
      "Passing `palette` without assigning `hue` is deprecated and will be removed in v0.14.0. Assign the `x` variable to `hue` and set `legend=False` for the same effect.\n",
      "\n",
      "  sns.barplot(data=x[x.click==1].reset_index(drop=True),x='time',y='count',palette='hls')\n"
     ]
    },
    {
     "data": {
      "text/plain": [
       "<AxesSubplot:xlabel='time', ylabel='count'>"
      ]
     },
     "execution_count": 266,
     "metadata": {},
     "output_type": "execute_result"
    },
    {
     "data": {
      "image/png": "[encoded data removed]",
      "text/plain": [
       "<Figure size 720x720 with 1 Axes>"
      ]
     },
     "metadata": {
      "needs_background": "light"
     },
     "output_type": "display_data"
    }
   ],
   "source": [
    "plt.figure(figsize=(10,10))\n",
    "sns.barplot(data=x[x.click==1].reset_index(drop=True),x='time',y='count',palette='hls')"
   ]
  },
  {
   "cell_type": "markdown",
   "id": "fd41a006",
   "metadata": {},
   "source": [
    "**Analysis**\n",
    "* Most of the website visit are during noon time. Around **1 to 5**\n",
    "* The website visit during night is less."
   ]
  },
  {
   "cell_type": "code",
   "execution_count": 270,
   "id": "13a0486a",
   "metadata": {},
   "outputs": [],
   "source": [
    "x_1 = x[x.click==1].reset_index(drop=True)"
   ]
  },
  {
   "cell_type": "code",
   "execution_count": 306,
   "id": "52214bcd",
   "metadata": {},
   "outputs": [
    {
     "name": "stderr",
     "output_type": "stream",
     "text": [
      "/var/folders/ph/nnm9q7h11bx4kbkx6gp4k2vc0000gn/T/ipykernel_82626/696528587.py:3: FutureWarning: \n",
      "\n",
      "Passing `palette` without assigning `hue` is deprecated and will be removed in v0.14.0. Assign the `x` variable to `hue` and set `legend=False` for the same effect.\n",
      "\n",
      "  sns.barplot(data=x_1,x='time',y='ctr',palette='hls')\n"
     ]
    },
    {
     "data": {
      "text/plain": [
       "<AxesSubplot:xlabel='time', ylabel='ctr'>"
      ]
     },
     "execution_count": 306,
     "metadata": {},
     "output_type": "execute_result"
    },
    {
     "data": {
      "image/png": "[encoded data removed]",
      "text/plain": [
       "<Figure size 720x720 with 1 Axes>"
      ]
     },
     "metadata": {
      "needs_background": "light"
     },
     "output_type": "display_data"
    }
   ],
   "source": [
    "x_1['ctr'] = (x_1['count']*1.0)/(train.groupby(['time'])[['click']].count()['click']*1.0)*100\n",
    "plt.figure(figsize=(10,10))\n",
    "sns.barplot(data=x_1,x='time',y='ctr',palette='hls')"
   ]
  },
  {
   "cell_type": "markdown",
   "id": "e45e1d91",
   "metadata": {},
   "source": [
    "**Analysis**\n",
    "* Although the Ads at night are less, the people visiting or clicking them at night specially at **1** is quiet good."
   ]
  },
  {
   "cell_type": "markdown",
   "id": "90e9a4bc",
   "metadata": {},
   "source": [
    "***Q3) - Let's analyze the banner position and which position is significant for CTR.***"
   ]
  },
  {
   "cell_type": "code",
   "execution_count": 329,
   "id": "4f8081b8",
   "metadata": {},
   "outputs": [
    {
     "data": {
      "text/plain": [
       "0    7198695\n",
       "1    2783624\n",
       "7      10676\n",
       "2       3187\n",
       "4       1877\n",
       "5       1453\n",
       "3        488\n",
       "Name: banner_pos, dtype: int64"
      ]
     },
     "execution_count": 329,
     "metadata": {},
     "output_type": "execute_result"
    }
   ],
   "source": [
    "train.banner_pos.value_counts()"
   ]
  },
  {
   "cell_type": "code",
   "execution_count": 331,
   "id": "f769c1a5",
   "metadata": {},
   "outputs": [
    {
     "name": "stderr",
     "output_type": "stream",
     "text": [
      "/var/folders/ph/nnm9q7h11bx4kbkx6gp4k2vc0000gn/T/ipykernel_82626/2110100322.py:2: FutureWarning: \n",
      "\n",
      "Passing `palette` without assigning `hue` is deprecated and will be removed in v0.14.0. Assign the `x` variable to `hue` and set `legend=False` for the same effect.\n",
      "\n",
      "  sns.countplot(data=train,x='banner_pos',palette='hls')\n"
     ]
    },
    {
     "data": {
      "text/plain": [
       "<AxesSubplot:xlabel='banner_pos', ylabel='count'>"
      ]
     },
     "execution_count": 331,
     "metadata": {},
     "output_type": "execute_result"
    },
    {
     "data": {
      "image/png": "[encoded data removed]",
      "text/plain": [
       "<Figure size 720x720 with 1 Axes>"
      ]
     },
     "metadata": {
      "needs_background": "light"
     },
     "output_type": "display_data"
    }
   ],
   "source": [
    "plt.figure(figsize=(10,10))\n",
    "sns.countplot(data=train,x='banner_pos',palette='hls')"
   ]
  },
  {
   "cell_type": "code",
   "execution_count": 332,
   "id": "41a32b96",
   "metadata": {},
   "outputs": [],
   "source": [
    "train_1 = train[train.click==1].reset_index(drop=True)"
   ]
  },
  {
   "cell_type": "code",
   "execution_count": 339,
   "id": "095b08b2",
   "metadata": {},
   "outputs": [],
   "source": [
    "df_banner_pos = train.groupby(['banner_pos'],as_index=False)[['click']].count()"
   ]
  },
  {
   "cell_type": "code",
   "execution_count": 341,
   "id": "f42ef26d",
   "metadata": {},
   "outputs": [
    {
     "data": {
      "text/plain": [
       "7"
      ]
     },
     "execution_count": 341,
     "metadata": {},
     "output_type": "execute_result"
    }
   ],
   "source": [
    "len(df_banner_pos.click)"
   ]
  },
  {
   "cell_type": "code",
   "execution_count": 346,
   "id": "04a2bcd0",
   "metadata": {},
   "outputs": [
    {
     "data": {
      "text/plain": [
       "7"
      ]
     },
     "execution_count": 346,
     "metadata": {},
     "output_type": "execute_result"
    }
   ],
   "source": [
    "len(df_banner_pos)"
   ]
  },
  {
   "cell_type": "code",
   "execution_count": 349,
   "id": "1203540f",
   "metadata": {},
   "outputs": [
    {
     "data": {
      "text/plain": [
       "0    1182927\n",
       "1     511123\n",
       "2        353\n",
       "3        107\n",
       "4        338\n",
       "5        161\n",
       "6       3415\n",
       "Name: click, dtype: int64"
      ]
     },
     "execution_count": 349,
     "metadata": {},
     "output_type": "execute_result"
    }
   ],
   "source": [
    "train_1.groupby('banner_pos',as_index=False)[['click']].count().click"
   ]
  },
  {
   "cell_type": "code",
   "execution_count": 350,
   "id": "08538ef5",
   "metadata": {},
   "outputs": [],
   "source": [
    "df_banner_pos['ctr'] = (train_1.groupby('banner_pos',as_index=False)[['click']].count().click/df_banner_pos.click)*100"
   ]
  },
  {
   "cell_type": "code",
   "execution_count": 352,
   "id": "6a1f8656",
   "metadata": {},
   "outputs": [
    {
     "name": "stderr",
     "output_type": "stream",
     "text": [
      "/var/folders/ph/nnm9q7h11bx4kbkx6gp4k2vc0000gn/T/ipykernel_82626/1139539056.py:2: FutureWarning: \n",
      "\n",
      "Passing `palette` without assigning `hue` is deprecated and will be removed in v0.14.0. Assign the `x` variable to `hue` and set `legend=False` for the same effect.\n",
      "\n",
      "  sns.barplot(data=df_banner_pos,x='banner_pos',y='ctr',palette='hls')\n"
     ]
    },
    {
     "data": {
      "text/plain": [
       "<AxesSubplot:xlabel='banner_pos', ylabel='ctr'>"
      ]
     },
     "execution_count": 352,
     "metadata": {},
     "output_type": "execute_result"
    },
    {
     "data": {
      "image/png": "[encoded data removed]",
      "text/plain": [
       "<Figure size 720x720 with 1 Axes>"
      ]
     },
     "metadata": {
      "needs_background": "light"
     },
     "output_type": "display_data"
    }
   ],
   "source": [
    "plt.figure(figsize=(10,10))\n",
    "sns.barplot(data=df_banner_pos,x='banner_pos',y='ctr',palette='hls')"
   ]
  },
  {
   "cell_type": "markdown",
   "id": "2b937cc5",
   "metadata": {},
   "source": [
    "**Analysis**\n",
    "\n",
    "Although banner position 0 has the highest number of impressions and clicks, banner position 7 enjoys the highest CTR. Increasing the number of ads placed on banner position 7 seems to be a good idea."
   ]
  },
  {
   "cell_type": "markdown",
   "id": "3c385da6",
   "metadata": {},
   "source": [
    "***Q4- What role the device model, type plays in Ads?***"
   ]
  },
  {
   "cell_type": "code",
   "execution_count": 356,
   "id": "1fbce290",
   "metadata": {},
   "outputs": [
    {
     "data": {
      "text/plain": [
       "Index(['id', 'click', 'hour', 'C1', 'banner_pos', 'site_id', 'site_domain',\n",
       "       'site_category', 'app_id', 'app_domain', 'app_category', 'device_id',\n",
       "       'device_ip', 'device_model', 'device_type', 'device_conn_type', 'C14',\n",
       "       'C15', 'C16', 'C17', 'C18', 'C19', 'C20', 'C21', 'day_of_week', 'day',\n",
       "       'time'],\n",
       "      dtype='object')"
      ]
     },
     "execution_count": 356,
     "metadata": {},
     "output_type": "execute_result"
    }
   ],
   "source": [
    "train.columns"
   ]
  },
  {
   "cell_type": "code",
   "execution_count": 357,
   "id": "19ff8ac2",
   "metadata": {},
   "outputs": [
    {
     "data": {
      "text/plain": [
       "1    9227229\n",
       "0     549745\n",
       "4     191131\n",
       "5      31890\n",
       "2          5\n",
       "Name: device_type, dtype: int64"
      ]
     },
     "execution_count": 357,
     "metadata": {},
     "output_type": "execute_result"
    }
   ],
   "source": [
    "train.device_type.value_counts()"
   ]
  },
  {
   "cell_type": "code",
   "execution_count": 358,
   "id": "dcdce384",
   "metadata": {},
   "outputs": [
    {
     "name": "stderr",
     "output_type": "stream",
     "text": [
      "/var/folders/ph/nnm9q7h11bx4kbkx6gp4k2vc0000gn/T/ipykernel_82626/2181498627.py:1: FutureWarning: \n",
      "\n",
      "Passing `palette` without assigning `hue` is deprecated and will be removed in v0.14.0. Assign the `x` variable to `hue` and set `legend=False` for the same effect.\n",
      "\n",
      "  sns.countplot(data=train,x='device_type',palette='hls')\n"
     ]
    },
    {
     "data": {
      "text/plain": [
       "<AxesSubplot:xlabel='device_type', ylabel='count'>"
      ]
     },
     "execution_count": 358,
     "metadata": {},
     "output_type": "execute_result"
    },
    {
     "data": {
      "image/png": "[encoded data removed]",
      "text/plain": [
       "<Figure size 432x288 with 1 Axes>"
      ]
     },
     "metadata": {
      "needs_background": "light"
     },
     "output_type": "display_data"
    }
   ],
   "source": [
    "sns.countplot(data=train,x='device_type',palette='hls')"
   ]
  },
  {
   "cell_type": "code",
   "execution_count": 394,
   "id": "b0b7a9a6",
   "metadata": {},
   "outputs": [],
   "source": [
    "df_device_type = train.groupby(['device_type','click'], as_index=False).size()"
   ]
  },
  {
   "cell_type": "code",
   "execution_count": 395,
   "id": "caaed525",
   "metadata": {},
   "outputs": [
    {
     "data": {
      "text/html": [
       "<div>\n",
       "<style scoped>\n",
       "    .dataframe tbody tr th:only-of-type {\n",
       "        vertical-align: middle;\n",
       "    }\n",
       "\n",
       "    .dataframe tbody tr th {\n",
       "        vertical-align: top;\n",
       "    }\n",
       "\n",
       "    .dataframe thead th {\n",
       "        text-align: right;\n",
       "    }\n",
       "</style>\n",
       "<table border=\"1\" class=\"dataframe\">\n",
       "  <thead>\n",
       "    <tr style=\"text-align: right;\">\n",
       "      <th></th>\n",
       "      <th>device_type</th>\n",
       "      <th>click</th>\n",
       "      <th>size</th>\n",
       "    </tr>\n",
       "  </thead>\n",
       "  <tbody>\n",
       "    <tr>\n",
       "      <th>0</th>\n",
       "      <td>0</td>\n",
       "      <td>0</td>\n",
       "      <td>433948</td>\n",
       "    </tr>\n",
       "    <tr>\n",
       "      <th>1</th>\n",
       "      <td>0</td>\n",
       "      <td>1</td>\n",
       "      <td>115797</td>\n",
       "    </tr>\n",
       "    <tr>\n",
       "      <th>2</th>\n",
       "      <td>1</td>\n",
       "      <td>0</td>\n",
       "      <td>7665982</td>\n",
       "    </tr>\n",
       "    <tr>\n",
       "      <th>3</th>\n",
       "      <td>1</td>\n",
       "      <td>1</td>\n",
       "      <td>1561247</td>\n",
       "    </tr>\n",
       "    <tr>\n",
       "      <th>4</th>\n",
       "      <td>2</td>\n",
       "      <td>0</td>\n",
       "      <td>5</td>\n",
       "    </tr>\n",
       "    <tr>\n",
       "      <th>5</th>\n",
       "      <td>4</td>\n",
       "      <td>0</td>\n",
       "      <td>172697</td>\n",
       "    </tr>\n",
       "    <tr>\n",
       "      <th>6</th>\n",
       "      <td>4</td>\n",
       "      <td>1</td>\n",
       "      <td>18434</td>\n",
       "    </tr>\n",
       "    <tr>\n",
       "      <th>7</th>\n",
       "      <td>5</td>\n",
       "      <td>0</td>\n",
       "      <td>28944</td>\n",
       "    </tr>\n",
       "    <tr>\n",
       "      <th>8</th>\n",
       "      <td>5</td>\n",
       "      <td>1</td>\n",
       "      <td>2946</td>\n",
       "    </tr>\n",
       "  </tbody>\n",
       "</table>\n",
       "</div>"
      ],
      "text/plain": [
       "   device_type  click     size\n",
       "0            0      0   433948\n",
       "1            0      1   115797\n",
       "2            1      0  7665982\n",
       "3            1      1  1561247\n",
       "4            2      0        5\n",
       "5            4      0   172697\n",
       "6            4      1    18434\n",
       "7            5      0    28944\n",
       "8            5      1     2946"
      ]
     },
     "execution_count": 395,
     "metadata": {},
     "output_type": "execute_result"
    }
   ],
   "source": [
    "df_device_type"
   ]
  },
  {
   "cell_type": "code",
   "execution_count": 402,
   "id": "313fd580",
   "metadata": {},
   "outputs": [],
   "source": [
    "df_banner = train[['device_type','click']].groupby(['device_type']).count().reset_index()"
   ]
  },
  {
   "cell_type": "code",
   "execution_count": 403,
   "id": "c7ab6cda",
   "metadata": {},
   "outputs": [],
   "source": [
    "df_click = train[train['click'] == 1]"
   ]
  },
  {
   "cell_type": "code",
   "execution_count": 404,
   "id": "e03e3d83",
   "metadata": {},
   "outputs": [],
   "source": [
    "df_banner = df_banner.rename(columns={'click': 'impressions'})\n",
    "df_banner['clicks'] = df_click[['device_type','click']].groupby(['device_type']).count().reset_index()['click']"
   ]
  },
  {
   "cell_type": "code",
   "execution_count": 405,
   "id": "331ddda2",
   "metadata": {},
   "outputs": [
    {
     "data": {
      "text/html": [
       "<div>\n",
       "<style scoped>\n",
       "    .dataframe tbody tr th:only-of-type {\n",
       "        vertical-align: middle;\n",
       "    }\n",
       "\n",
       "    .dataframe tbody tr th {\n",
       "        vertical-align: top;\n",
       "    }\n",
       "\n",
       "    .dataframe thead th {\n",
       "        text-align: right;\n",
       "    }\n",
       "</style>\n",
       "<table border=\"1\" class=\"dataframe\">\n",
       "  <thead>\n",
       "    <tr style=\"text-align: right;\">\n",
       "      <th></th>\n",
       "      <th>device_type</th>\n",
       "      <th>impressions</th>\n",
       "      <th>clicks</th>\n",
       "    </tr>\n",
       "  </thead>\n",
       "  <tbody>\n",
       "    <tr>\n",
       "      <th>0</th>\n",
       "      <td>0</td>\n",
       "      <td>549745</td>\n",
       "      <td>115797</td>\n",
       "    </tr>\n",
       "    <tr>\n",
       "      <th>1</th>\n",
       "      <td>1</td>\n",
       "      <td>9227229</td>\n",
       "      <td>1561247</td>\n",
       "    </tr>\n",
       "    <tr>\n",
       "      <th>2</th>\n",
       "      <td>2</td>\n",
       "      <td>5</td>\n",
       "      <td>18434</td>\n",
       "    </tr>\n",
       "    <tr>\n",
       "      <th>3</th>\n",
       "      <td>4</td>\n",
       "      <td>191131</td>\n",
       "      <td>2946</td>\n",
       "    </tr>\n",
       "    <tr>\n",
       "      <th>4</th>\n",
       "      <td>5</td>\n",
       "      <td>31890</td>\n",
       "      <td>NaN</td>\n",
       "    </tr>\n",
       "  </tbody>\n",
       "</table>\n",
       "</div>"
      ],
      "text/plain": [
       "   device_type  impressions  clicks\n",
       "0            0       549745  115797\n",
       "1            1      9227229 1561247\n",
       "2            2            5   18434\n",
       "3            4       191131    2946\n",
       "4            5        31890     NaN"
      ]
     },
     "execution_count": 405,
     "metadata": {},
     "output_type": "execute_result"
    }
   ],
   "source": [
    "df_banner"
   ]
  },
  {
   "cell_type": "code",
   "execution_count": 419,
   "id": "ad569862",
   "metadata": {},
   "outputs": [
    {
     "data": {
      "text/plain": [
       "0   0.2106\n",
       "1   0.1692\n",
       "2   0.0000\n",
       "3   0.0964\n",
       "4   0.0924\n",
       "Name: click, dtype: float64"
      ]
     },
     "execution_count": 419,
     "metadata": {},
     "output_type": "execute_result"
    }
   ],
   "source": [
    "train.groupby(['device_type']).agg({'click':'sum'}).reset_index()['click']/train.groupby(['device_type']).agg({'click':'count'}).reset_index()['click']"
   ]
  },
  {
   "cell_type": "code",
   "execution_count": 412,
   "id": "5bd9378a",
   "metadata": {},
   "outputs": [],
   "source": [
    "device_type_click = df_click.groupby('device_type').agg({'click':'sum'}).reset_index()\n",
    "device_type_impression = train.groupby('device_type').agg({'click':'count'}).reset_index().rename(columns={'click': 'impressions'})\n",
    "merged_device_type = pd.merge(left = device_type_click , right = device_type_impression, how = 'inner', on = 'device_type')\n",
    "merged_device_type['CTR'] = merged_device_type['click'] / merged_device_type['impressions']*100"
   ]
  },
  {
   "cell_type": "code",
   "execution_count": 413,
   "id": "ec220651",
   "metadata": {},
   "outputs": [
    {
     "data": {
      "text/html": [
       "<div>\n",
       "<style scoped>\n",
       "    .dataframe tbody tr th:only-of-type {\n",
       "        vertical-align: middle;\n",
       "    }\n",
       "\n",
       "    .dataframe tbody tr th {\n",
       "        vertical-align: top;\n",
       "    }\n",
       "\n",
       "    .dataframe thead th {\n",
       "        text-align: right;\n",
       "    }\n",
       "</style>\n",
       "<table border=\"1\" class=\"dataframe\">\n",
       "  <thead>\n",
       "    <tr style=\"text-align: right;\">\n",
       "      <th></th>\n",
       "      <th>device_type</th>\n",
       "      <th>click</th>\n",
       "      <th>impressions</th>\n",
       "      <th>CTR</th>\n",
       "    </tr>\n",
       "  </thead>\n",
       "  <tbody>\n",
       "    <tr>\n",
       "      <th>0</th>\n",
       "      <td>0</td>\n",
       "      <td>115797</td>\n",
       "      <td>549745</td>\n",
       "      <td>21.0638</td>\n",
       "    </tr>\n",
       "    <tr>\n",
       "      <th>1</th>\n",
       "      <td>1</td>\n",
       "      <td>1561247</td>\n",
       "      <td>9227229</td>\n",
       "      <td>16.9200</td>\n",
       "    </tr>\n",
       "    <tr>\n",
       "      <th>2</th>\n",
       "      <td>4</td>\n",
       "      <td>18434</td>\n",
       "      <td>191131</td>\n",
       "      <td>9.6447</td>\n",
       "    </tr>\n",
       "    <tr>\n",
       "      <th>3</th>\n",
       "      <td>5</td>\n",
       "      <td>2946</td>\n",
       "      <td>31890</td>\n",
       "      <td>9.2380</td>\n",
       "    </tr>\n",
       "  </tbody>\n",
       "</table>\n",
       "</div>"
      ],
      "text/plain": [
       "   device_type    click  impressions     CTR\n",
       "0            0   115797       549745 21.0638\n",
       "1            1  1561247      9227229 16.9200\n",
       "2            4    18434       191131  9.6447\n",
       "3            5     2946        31890  9.2380"
      ]
     },
     "execution_count": 413,
     "metadata": {},
     "output_type": "execute_result"
    }
   ],
   "source": [
    "merged_device_type"
   ]
  },
  {
   "cell_type": "code",
   "execution_count": 376,
   "id": "c6db6545",
   "metadata": {
    "collapsed": true
   },
   "outputs": [
    {
     "data": {
      "text/plain": [
       "<AxesSubplot:xlabel='device_type', ylabel='size'>"
      ]
     },
     "execution_count": 376,
     "metadata": {},
     "output_type": "execute_result"
    },
    {
     "data": {
      "image/png": "[encoded data removed]",
      "text/plain": [
       "<Figure size 720x720 with 1 Axes>"
      ]
     },
     "metadata": {
      "needs_background": "light"
     },
     "output_type": "display_data"
    }
   ],
   "source": [
    "plt.figure(figsize=(10,10))\n",
    "sns.barplot(data=df_device_type,x='device_type',y='size',hue='click',palette='hls')"
   ]
  },
  {
   "cell_type": "code",
   "execution_count": 383,
   "id": "f54917df",
   "metadata": {
    "collapsed": true
   },
   "outputs": [
    {
     "data": {
      "text/html": [
       "<div>\n",
       "<style scoped>\n",
       "    .dataframe tbody tr th:only-of-type {\n",
       "        vertical-align: middle;\n",
       "    }\n",
       "\n",
       "    .dataframe tbody tr th {\n",
       "        vertical-align: top;\n",
       "    }\n",
       "\n",
       "    .dataframe thead th {\n",
       "        text-align: right;\n",
       "    }\n",
       "</style>\n",
       "<table border=\"1\" class=\"dataframe\">\n",
       "  <thead>\n",
       "    <tr style=\"text-align: right;\">\n",
       "      <th></th>\n",
       "      <th>device_type</th>\n",
       "      <th>click</th>\n",
       "      <th>size</th>\n",
       "    </tr>\n",
       "  </thead>\n",
       "  <tbody>\n",
       "    <tr>\n",
       "      <th>0</th>\n",
       "      <td>0</td>\n",
       "      <td>0</td>\n",
       "      <td>433948</td>\n",
       "    </tr>\n",
       "    <tr>\n",
       "      <th>1</th>\n",
       "      <td>0</td>\n",
       "      <td>1</td>\n",
       "      <td>115797</td>\n",
       "    </tr>\n",
       "    <tr>\n",
       "      <th>2</th>\n",
       "      <td>1</td>\n",
       "      <td>0</td>\n",
       "      <td>7665982</td>\n",
       "    </tr>\n",
       "    <tr>\n",
       "      <th>3</th>\n",
       "      <td>1</td>\n",
       "      <td>1</td>\n",
       "      <td>1561247</td>\n",
       "    </tr>\n",
       "    <tr>\n",
       "      <th>4</th>\n",
       "      <td>2</td>\n",
       "      <td>0</td>\n",
       "      <td>5</td>\n",
       "    </tr>\n",
       "    <tr>\n",
       "      <th>5</th>\n",
       "      <td>4</td>\n",
       "      <td>0</td>\n",
       "      <td>172697</td>\n",
       "    </tr>\n",
       "    <tr>\n",
       "      <th>6</th>\n",
       "      <td>4</td>\n",
       "      <td>1</td>\n",
       "      <td>18434</td>\n",
       "    </tr>\n",
       "    <tr>\n",
       "      <th>7</th>\n",
       "      <td>5</td>\n",
       "      <td>0</td>\n",
       "      <td>28944</td>\n",
       "    </tr>\n",
       "    <tr>\n",
       "      <th>8</th>\n",
       "      <td>5</td>\n",
       "      <td>1</td>\n",
       "      <td>2946</td>\n",
       "    </tr>\n",
       "  </tbody>\n",
       "</table>\n",
       "</div>"
      ],
      "text/plain": [
       "   device_type  click     size\n",
       "0            0      0   433948\n",
       "1            0      1   115797\n",
       "2            1      0  7665982\n",
       "3            1      1  1561247\n",
       "4            2      0        5\n",
       "5            4      0   172697\n",
       "6            4      1    18434\n",
       "7            5      0    28944\n",
       "8            5      1     2946"
      ]
     },
     "execution_count": 383,
     "metadata": {},
     "output_type": "execute_result"
    }
   ],
   "source": [
    "df_device_type"
   ]
  },
  {
   "cell_type": "code",
   "execution_count": 380,
   "id": "45ae7053",
   "metadata": {},
   "outputs": [
    {
     "data": {
      "text/plain": [
       "5519"
      ]
     },
     "execution_count": 380,
     "metadata": {},
     "output_type": "execute_result"
    }
   ],
   "source": [
    "len(train_1.device_model.value_counts())"
   ]
  },
  {
   "cell_type": "code",
   "execution_count": 382,
   "id": "68b124b8",
   "metadata": {},
   "outputs": [
    {
     "data": {
      "text/plain": [
       "26"
      ]
     },
     "execution_count": 382,
     "metadata": {},
     "output_type": "execute_result"
    }
   ],
   "source": [
    "len(train.site_category.value_counts())"
   ]
  },
  {
   "cell_type": "markdown",
   "id": "3d890eb3",
   "metadata": {},
   "source": [
    "Let's create a function that calculate the ctr ratio for different categories and tells me which category has high ctr ratio. It also tells me the top 3 with the highest ctr ratio and the minimum three categories. Number of categories. \n"
   ]
  },
  {
   "cell_type": "code",
   "execution_count": 427,
   "id": "8532c7e8",
   "metadata": {},
   "outputs": [
    {
     "data": {
      "text/html": [
       "<div>\n",
       "<style scoped>\n",
       "    .dataframe tbody tr th:only-of-type {\n",
       "        vertical-align: middle;\n",
       "    }\n",
       "\n",
       "    .dataframe tbody tr th {\n",
       "        vertical-align: top;\n",
       "    }\n",
       "\n",
       "    .dataframe thead th {\n",
       "        text-align: right;\n",
       "    }\n",
       "</style>\n",
       "<table border=\"1\" class=\"dataframe\">\n",
       "  <thead>\n",
       "    <tr style=\"text-align: right;\">\n",
       "      <th></th>\n",
       "      <th>device_type</th>\n",
       "      <th>CTR</th>\n",
       "    </tr>\n",
       "  </thead>\n",
       "  <tbody>\n",
       "    <tr>\n",
       "      <th>0</th>\n",
       "      <td>0</td>\n",
       "      <td>21.0638</td>\n",
       "    </tr>\n",
       "    <tr>\n",
       "      <th>1</th>\n",
       "      <td>1</td>\n",
       "      <td>16.9200</td>\n",
       "    </tr>\n",
       "    <tr>\n",
       "      <th>2</th>\n",
       "      <td>4</td>\n",
       "      <td>9.6447</td>\n",
       "    </tr>\n",
       "  </tbody>\n",
       "</table>\n",
       "</div>"
      ],
      "text/plain": [
       "   device_type     CTR\n",
       "0            0 21.0638\n",
       "1            1 16.9200\n",
       "2            4  9.6447"
      ]
     },
     "execution_count": 427,
     "metadata": {},
     "output_type": "execute_result"
    }
   ],
   "source": [
    "merged_device_type.sort_values(by=['CTR'],ascending=False)[0:3][['device_type','CTR']]"
   ]
  },
  {
   "cell_type": "code",
   "execution_count": 445,
   "id": "5d497d64",
   "metadata": {},
   "outputs": [
    {
     "data": {
      "text/plain": [
       "4"
      ]
     },
     "execution_count": 445,
     "metadata": {},
     "output_type": "execute_result"
    }
   ],
   "source": [
    "merged_device_type['device_type'].nunique()"
   ]
  },
  {
   "cell_type": "code",
   "execution_count": null,
   "id": "7e8d2db0",
   "metadata": {},
   "outputs": [],
   "source": [
    "merged_device_type.rename(columns={\"click\":\"visits\"})"
   ]
  },
  {
   "cell_type": "code",
   "execution_count": 486,
   "id": "be9d62ed",
   "metadata": {},
   "outputs": [],
   "source": [
    "def evaluate(df,col_name):\n",
    "    clicks = df.groupby(col_name).agg({'click':'sum'}).reset_index()\n",
    "    visits = df.groupby(col_name).agg({'click':'count'}).reset_index()\n",
    "    visits['ctr'] = (clicks['click']/visits['click'])*100\n",
    "    visits[\"clicked\"] = clicks[\"click\"]\n",
    "    visits.rename(columns={\"click\":\"visits\"},inplace=True)\n",
    "    print(f'###################################')\n",
    "    print(f'Total number of {col_name} are {visits[col_name].nunique()}')\n",
    "    print(f'-------------------------------------')\n",
    "    print(f'The max three ctr are as follows ')\n",
    "    print(f'{visits.sort_values(by=\"ctr\",ascending=False)[0:3][[col_name,\"ctr\",\"visits\",\"clicked\"]].to_markdown()}')\n",
    "    print('--------------------------------------')\n",
    "    print(f'The bottom three ctr are as follows ')\n",
    "    print(f'{visits.sort_values(by=\"ctr\",ascending=True)[0:3][[col_name,\"ctr\",\"visits\",\"clicked\"]].to_markdown()}')\n",
    "    print(f'##################################')"
   ]
  },
  {
   "cell_type": "code",
   "execution_count": 491,
   "id": "8ab7ffbb",
   "metadata": {},
   "outputs": [],
   "source": [
    "skip_col = ['id','click','hour']"
   ]
  },
  {
   "cell_type": "code",
   "execution_count": 492,
   "id": "af8322eb",
   "metadata": {
    "scrolled": true
   },
   "outputs": [
    {
     "name": "stdout",
     "output_type": "stream",
     "text": [
      "###################################\n",
      "Total number of C1 are 7\n",
      "-------------------------------------\n",
      "The max three ctr are as follows \n",
      "|    |   C1 |     ctr |           visits |          clicked |\n",
      "|---:|-----:|--------:|-----------------:|-----------------:|\n",
      "|  1 | 1002 | 21.0638 | 549745           | 115797           |\n",
      "|  6 | 1012 | 17.1608 |  28198           |   4839           |\n",
      "|  2 | 1005 | 16.9363 |      9.18643e+06 |      1.55584e+06 |\n",
      "--------------------------------------\n",
      "The bottom three ctr are as follows \n",
      "|    |   C1 |     ctr |   visits |   clicked |\n",
      "|---:|-----:|--------:|---------:|----------:|\n",
      "|  0 | 1001 | 3.19379 |     2317 |        74 |\n",
      "|  3 | 1007 | 3.80349 |     8834 |       336 |\n",
      "|  5 | 1010 | 9.58654 |   223021 |     21380 |\n",
      "##################################\n",
      "###################################\n",
      "Total number of banner_pos are 7\n",
      "-------------------------------------\n",
      "The max three ctr are as follows \n",
      "|    |   banner_pos |     ctr |          visits |   clicked |\n",
      "|---:|-------------:|--------:|----------------:|----------:|\n",
      "|  6 |            7 | 31.9876 | 10676           |      3415 |\n",
      "|  3 |            3 | 21.9262 |   488           |       107 |\n",
      "|  1 |            1 | 18.3618 |     2.78362e+06 |    511123 |\n",
      "--------------------------------------\n",
      "The bottom three ctr are as follows \n",
      "|    |   banner_pos |     ctr |        visits |       clicked |\n",
      "|---:|-------------:|--------:|--------------:|--------------:|\n",
      "|  2 |            2 | 11.0762 | 3187          | 353           |\n",
      "|  5 |            5 | 11.0805 | 1453          | 161           |\n",
      "|  0 |            0 | 16.4325 |    7.1987e+06 |   1.18293e+06 |\n",
      "##################################\n",
      "###################################\n",
      "Total number of site_id are 3975\n",
      "-------------------------------------\n",
      "The max three ctr are as follows \n",
      "|      | site_id   |   ctr |   visits |   clicked |\n",
      "|-----:|:----------|------:|---------:|----------:|\n",
      "| 3490 | e1bde2a5  |   100 |        1 |         1 |\n",
      "| 1798 | 70ce24b7  |   100 |        1 |         1 |\n",
      "|  268 | 0ff08e21  |   100 |        3 |         3 |\n",
      "--------------------------------------\n",
      "The bottom three ctr are as follows \n",
      "|      | site_id   |   ctr |   visits |   clicked |\n",
      "|-----:|:----------|------:|---------:|----------:|\n",
      "| 3098 | c8115fcb  |     0 |        1 |         0 |\n",
      "| 1232 | 4ba33bb6  |     0 |      284 |         0 |\n",
      "| 1231 | 4b9f6a23  |     0 |        1 |         0 |\n",
      "##################################\n",
      "###################################\n",
      "Total number of site_domain are 5470\n",
      "-------------------------------------\n",
      "The max three ctr are as follows \n",
      "|      | site_domain   |   ctr |   visits |   clicked |\n",
      "|-----:|:--------------|------:|---------:|----------:|\n",
      "| 3849 | b1ed90ac      |   100 |        3 |         3 |\n",
      "| 4330 | c960dc86      |   100 |        1 |         1 |\n",
      "| 4267 | c62a060a      |   100 |        1 |         1 |\n",
      "--------------------------------------\n",
      "The bottom three ctr are as follows \n",
      "|      | site_domain   |   ctr |   visits |   clicked |\n",
      "|-----:|:--------------|------:|---------:|----------:|\n",
      "| 2088 | 5fa5955a      |     0 |        2 |         0 |\n",
      "| 1624 | 497e3a2a      |     0 |        1 |         0 |\n",
      "| 5013 | e9d1a713      |     0 |        2 |         0 |\n",
      "##################################\n",
      "###################################\n",
      "Total number of site_category are 26\n",
      "-------------------------------------\n",
      "The max three ctr are as follows \n",
      "|    | site_category   |     ctr |   visits |   clicked |\n",
      "|---:|:----------------|--------:|---------:|----------:|\n",
      "| 22 | dedf689d        | 50.7487 |     6077 |      3084 |\n",
      "|  4 | 3e814130        | 28.322  |   754402 |    213662 |\n",
      "|  5 | 42a36e14        | 21.8373 |      664 |       145 |\n",
      "--------------------------------------\n",
      "The bottom three ctr are as follows \n",
      "|    | site_category   |   ctr |   visits |   clicked |\n",
      "|---:|:----------------|------:|---------:|----------:|\n",
      "|  1 | 110ab22d        |     0 |        2 |         0 |\n",
      "| 21 | da34532e        |     0 |        5 |         0 |\n",
      "| 20 | c706e647        |     0 |        4 |         0 |\n",
      "##################################\n",
      "###################################\n",
      "Total number of app_id are 6262\n",
      "-------------------------------------\n",
      "The max three ctr are as follows \n",
      "|      | app_id   |   ctr |   visits |   clicked |\n",
      "|-----:|:---------|------:|---------:|----------:|\n",
      "| 2129 | 55096fef |   100 |        1 |         1 |\n",
      "| 3108 | 7c4af157 |   100 |        7 |         7 |\n",
      "| 4340 | afe80577 |   100 |        1 |         1 |\n",
      "--------------------------------------\n",
      "The bottom three ctr are as follows \n",
      "|      | app_id   |   ctr |   visits |   clicked |\n",
      "|-----:|:---------|------:|---------:|----------:|\n",
      "| 6261 | fff4213a |     0 |        2 |         0 |\n",
      "| 4356 | b0d9b14f |     0 |       24 |         0 |\n",
      "| 4355 | b0d81db8 |     0 |        2 |         0 |\n",
      "##################################\n",
      "###################################\n",
      "Total number of app_domain are 386\n",
      "-------------------------------------\n",
      "The max three ctr are as follows \n",
      "|     | app_domain   |   ctr |   visits |   clicked |\n",
      "|----:|:-------------|------:|---------:|----------:|\n",
      "| 277 | b9f04b56     |   100 |        2 |         2 |\n",
      "| 362 | f2140094     |   100 |        1 |         1 |\n",
      "|  66 | 2e06c061     |   100 |        1 |         1 |\n",
      "--------------------------------------\n",
      "The bottom three ctr are as follows \n",
      "|     | app_domain   |   ctr |   visits |   clicked |\n",
      "|----:|:-------------|------:|---------:|----------:|\n",
      "|   0 | 001b87ae     |     0 |        1 |         0 |\n",
      "| 207 | 90706f5d     |     0 |       22 |         0 |\n",
      "| 208 | 90d75517     |     0 |        4 |         0 |\n",
      "##################################\n",
      "###################################\n",
      "Total number of app_category are 32\n",
      "-------------------------------------\n",
      "The max three ctr are as follows \n",
      "|    | app_category   |     ctr |   visits |   clicked |\n",
      "|---:|:---------------|--------:|---------:|----------:|\n",
      "| 21 | 8df2e842       | 26.8018 |      444 |       119 |\n",
      "| 30 | f95efa07       | 24.8129 |   282668 |     70138 |\n",
      "|  0 | 07d7df22       | 19.9059 |  6474332 |   1288776 |\n",
      "--------------------------------------\n",
      "The bottom three ctr are as follows \n",
      "|    | app_category   |   ctr |   visits |   clicked |\n",
      "|---:|:---------------|------:|---------:|----------:|\n",
      "| 15 | 7113d72a       |     0 |       67 |         0 |\n",
      "| 29 | ef03ae90       |     0 |        2 |         0 |\n",
      "|  3 | 0d82db25       |     0 |        3 |         0 |\n",
      "##################################\n",
      "###################################\n",
      "Total number of device_id are 1026375\n",
      "-------------------------------------\n",
      "The max three ctr are as follows \n",
      "|        | device_id   |   ctr |   visits |   clicked |\n",
      "|-------:|:------------|------:|---------:|----------:|\n",
      "| 349585 | 571f6c00    |   100 |        1 |         1 |\n",
      "| 816988 | cbb9b9bc    |   100 |        2 |         2 |\n",
      "| 127361 | 1fa9510f    |   100 |        1 |         1 |\n",
      "--------------------------------------\n",
      "The bottom three ctr are as follows \n",
      "|        | device_id   |   ctr |   visits |   clicked |\n",
      "|-------:|:------------|------:|---------:|----------:|\n",
      "|      0 | 00001237    |     0 |        1 |         0 |\n",
      "| 645431 | a0cd3712    |     0 |        1 |         0 |\n",
      "| 645432 | a0cd6578    |     0 |        1 |         0 |\n",
      "##################################\n",
      "###################################\n",
      "Total number of device_ip are 3044673\n",
      "-------------------------------------\n",
      "The max three ctr are as follows \n",
      "|         | device_ip   |   ctr |   visits |   clicked |\n",
      "|--------:|:------------|------:|---------:|----------:|\n",
      "|  747074 | 3ecc4af2    |   100 |        1 |         1 |\n",
      "|  326458 | 1b720685    |   100 |        1 |         1 |\n",
      "| 2040358 | ab8803fa    |   100 |        2 |         2 |\n",
      "--------------------------------------\n",
      "The bottom three ctr are as follows \n",
      "|         | device_ip   |   ctr |   visits |   clicked |\n",
      "|--------:|:------------|------:|---------:|----------:|\n",
      "|       0 | 00001180    |     0 |        1 |         0 |\n",
      "| 2550842 | d671fd03    |     0 |        2 |         0 |\n",
      "| 1519135 | 7fab4482    |     0 |        2 |         0 |\n",
      "##################################\n",
      "###################################\n",
      "Total number of device_model are 7117\n",
      "-------------------------------------\n",
      "The max three ctr are as follows \n",
      "|      | device_model   |   ctr |   visits |   clicked |\n",
      "|-----:|:---------------|------:|---------:|----------:|\n",
      "| 6725 | f1d7382f       |   100 |        1 |         1 |\n",
      "| 2191 | 4f4cc405       |   100 |        1 |         1 |\n",
      "| 5860 | d2ea4489       |   100 |        1 |         1 |\n",
      "--------------------------------------\n",
      "The bottom three ctr are as follows \n",
      "|      | device_model   |   ctr |   visits |   clicked |\n",
      "|-----:|:---------------|------:|---------:|----------:|\n",
      "| 1913 | 44c259c0       |     0 |        2 |         0 |\n",
      "| 2032 | 4966c822       |     0 |        3 |         0 |\n",
      "| 5333 | c1abe61b       |     0 |        1 |         0 |\n",
      "##################################\n"
     ]
    },
    {
     "name": "stdout",
     "output_type": "stream",
     "text": [
      "###################################\n",
      "Total number of device_type are 5\n",
      "-------------------------------------\n",
      "The max three ctr are as follows \n",
      "|    |   device_type |      ctr |           visits |          clicked |\n",
      "|---:|--------------:|---------:|-----------------:|-----------------:|\n",
      "|  0 |             0 | 21.0638  | 549745           | 115797           |\n",
      "|  1 |             1 | 16.92    |      9.22723e+06 |      1.56125e+06 |\n",
      "|  3 |             4 |  9.64469 | 191131           |  18434           |\n",
      "--------------------------------------\n",
      "The bottom three ctr are as follows \n",
      "|    |   device_type |     ctr |   visits |   clicked |\n",
      "|---:|--------------:|--------:|---------:|----------:|\n",
      "|  2 |             2 | 0       |        5 |         0 |\n",
      "|  4 |             5 | 9.23801 |    31890 |      2946 |\n",
      "|  3 |             4 | 9.64469 |   191131 |     18434 |\n",
      "##################################\n",
      "###################################\n",
      "Total number of device_conn_type are 4\n",
      "-------------------------------------\n",
      "The max three ctr are as follows \n",
      "|    |   device_conn_type |      ctr |           visits |          clicked |\n",
      "|---:|-------------------:|---------:|-----------------:|-----------------:|\n",
      "|  0 |                  0 | 18.1142  |      8.63231e+06 |      1.56367e+06 |\n",
      "|  1 |                  2 | 13.5184  | 818486           | 110646           |\n",
      "|  2 |                  3 |  4.42043 | 538635           |  23810           |\n",
      "--------------------------------------\n",
      "The bottom three ctr are as follows \n",
      "|    |   device_conn_type |      ctr |   visits |   clicked |\n",
      "|---:|-------------------:|---------:|---------:|----------:|\n",
      "|  3 |                  5 |  2.79145 |    10568 |       295 |\n",
      "|  2 |                  3 |  4.42043 |   538635 |     23810 |\n",
      "|  1 |                  2 | 13.5184  |   818486 |    110646 |\n",
      "##################################\n",
      "###################################\n",
      "Total number of C14 are 2528\n",
      "-------------------------------------\n",
      "The max three ctr are as follows \n",
      "|      |   C14 |   ctr |   visits |   clicked |\n",
      "|-----:|------:|------:|---------:|----------:|\n",
      "| 2383 | 23807 |   100 |        2 |         2 |\n",
      "|  482 | 18541 |   100 |        2 |         2 |\n",
      "|  411 | 18434 |   100 |        1 |         1 |\n",
      "--------------------------------------\n",
      "The bottom three ctr are as follows \n",
      "|      |   C14 |   ctr |   visits |   clicked |\n",
      "|-----:|------:|------:|---------:|----------:|\n",
      "| 2527 | 24052 |     0 |        7 |         0 |\n",
      "|  267 | 15551 |     0 |       30 |         0 |\n",
      "|  266 | 15550 |     0 |       30 |         0 |\n",
      "##################################\n",
      "###################################\n",
      "Total number of C15 are 8\n",
      "-------------------------------------\n",
      "The max three ctr are as follows \n",
      "|    |   C15 |     ctr |   visits |   clicked |\n",
      "|---:|------:|--------:|---------:|----------:|\n",
      "|  6 |   768 | 40.404  |      396 |       160 |\n",
      "|  2 |   300 | 35.8715 |   578465 |    207504 |\n",
      "|  4 |   480 | 27.7886 |      511 |       142 |\n",
      "--------------------------------------\n",
      "The bottom three ctr are as follows \n",
      "|    |   C15 |       ctr |   visits |   clicked |\n",
      "|---:|------:|----------:|---------:|----------:|\n",
      "|  0 |   120 |  0.906736 |      772 |         7 |\n",
      "|  5 |   728 |  5.57542  |    18456 |      1029 |\n",
      "|  1 |   216 | 12.5706   |    73863 |      9285 |\n",
      "##################################\n",
      "###################################\n",
      "Total number of C16 are 9\n",
      "-------------------------------------\n",
      "The max three ctr are as follows \n",
      "|    |   C16 |     ctr |   visits |   clicked |\n",
      "|---:|------:|--------:|---------:|----------:|\n",
      "|  4 |   250 | 42.083  |   446905 |    188071 |\n",
      "|  8 |  1024 | 40.404  |      396 |       160 |\n",
      "|  5 |   320 | 27.7886 |      511 |       142 |\n",
      "--------------------------------------\n",
      "The bottom three ctr are as follows \n",
      "|    |   C16 |       ctr |   visits |   clicked |\n",
      "|---:|------:|----------:|---------:|----------:|\n",
      "|  0 |    20 |  0.906736 |      772 |         7 |\n",
      "|  3 |    90 |  5.57542  |    18456 |      1029 |\n",
      "|  1 |    36 | 12.5706   |    73863 |      9285 |\n",
      "##################################\n",
      "###################################\n",
      "Total number of C17 are 431\n",
      "-------------------------------------\n",
      "The max three ctr are as follows \n",
      "|     |   C17 |      ctr |   visits |   clicked |\n",
      "|----:|------:|---------:|---------:|----------:|\n",
      "| 268 |  2567 | 100      |        1 |         1 |\n",
      "| 226 |  2518 |  71.1052 |      751 |       534 |\n",
      "| 351 |  2662 |  67.6768 |      396 |       268 |\n",
      "--------------------------------------\n",
      "The bottom three ctr are as follows \n",
      "|     |   C17 |   ctr |   visits |   clicked |\n",
      "|----:|------:|------:|---------:|----------:|\n",
      "| 159 |  2375 |     0 |       20 |         0 |\n",
      "| 181 |  2448 |     0 |        5 |         0 |\n",
      "| 399 |  2718 |     0 |        2 |         0 |\n",
      "##################################\n",
      "###################################\n",
      "Total number of C18 are 4\n",
      "-------------------------------------\n",
      "The max three ctr are as follows \n",
      "|    |   C18 |     ctr |      visits |   clicked |\n",
      "|---:|------:|--------:|------------:|----------:|\n",
      "|  2 |     2 | 29.5241 | 1.76094e+06 |    519902 |\n",
      "|  0 |     0 | 15.8117 | 4.19169e+06 |    662779 |\n",
      "|  3 |     3 | 14.599  | 3.37558e+06 |    492802 |\n",
      "--------------------------------------\n",
      "The bottom three ctr are as follows \n",
      "|    |   C18 |      ctr |           visits |   clicked |\n",
      "|---:|------:|---------:|-----------------:|----------:|\n",
      "|  1 |     1 |  3.41494 | 671784           |     22941 |\n",
      "|  3 |     3 | 14.599   |      3.37558e+06 |    492802 |\n",
      "|  0 |     0 | 15.8117  |      4.19169e+06 |    662779 |\n",
      "##################################\n",
      "###################################\n",
      "Total number of C19 are 67\n",
      "-------------------------------------\n",
      "The max three ctr are as follows \n",
      "|    |   C19 |     ctr |   visits |   clicked |\n",
      "|---:|------:|--------:|---------:|----------:|\n",
      "| 54 |  1071 | 47.3456 |     5312 |      2515 |\n",
      "| 59 |  1447 | 42.1053 |       38 |        16 |\n",
      "| 52 |  1063 | 35.5311 |   129115 |     45876 |\n",
      "--------------------------------------\n",
      "The bottom three ctr are as follows \n",
      "|    |   C19 |     ctr |   visits |   clicked |\n",
      "|---:|------:|--------:|---------:|----------:|\n",
      "| 36 |   677 | 0       |        2 |         0 |\n",
      "|  9 |   161 | 2.34382 |   392223 |      9193 |\n",
      "|  7 |    45 | 2.90771 |      791 |        23 |\n",
      "##################################\n",
      "###################################\n",
      "Total number of C20 are 171\n",
      "-------------------------------------\n",
      "The max three ctr are as follows \n",
      "|     |    C20 |     ctr |   visits |   clicked |\n",
      "|----:|-------:|--------:|---------:|----------:|\n",
      "|  77 | 100100 | 31.5789 |       19 |         6 |\n",
      "| 154 | 100206 | 29.8748 |      559 |       167 |\n",
      "|  54 | 100073 | 27.8017 |      464 |       129 |\n",
      "--------------------------------------\n",
      "The bottom three ctr are as follows \n",
      "|     |    C20 |   ctr |   visits |   clicked |\n",
      "|----:|-------:|------:|---------:|----------:|\n",
      "| 139 | 100186 |     0 |       13 |         0 |\n",
      "| 117 | 100157 |     0 |        7 |         0 |\n",
      "| 149 | 100198 |     0 |        1 |         0 |\n",
      "##################################\n",
      "###################################\n",
      "Total number of C21 are 60\n",
      "-------------------------------------\n",
      "The max three ctr are as follows \n",
      "|    |   C21 |     ctr |   visits |   clicked |\n",
      "|---:|------:|--------:|---------:|----------:|\n",
      "|  8 |    33 | 39.3907 |   370232 |    145837 |\n",
      "|  9 |    35 | 28.4513 |    11655 |      3316 |\n",
      "| 15 |    52 | 27.0416 |   297945 |     80569 |\n",
      "--------------------------------------\n",
      "The bottom three ctr are as follows \n",
      "|    |   C21 |     ctr |   visits |   clicked |\n",
      "|---:|------:|--------:|---------:|----------:|\n",
      "| 20 |    71 | 2.80763 |   520581 |     14616 |\n",
      "| 51 |   204 | 3.8366  |    22937 |       880 |\n",
      "| 44 |   163 | 3.98258 |     1607 |        64 |\n",
      "##################################\n",
      "###################################\n",
      "Total number of day_of_week are 7\n",
      "-------------------------------------\n",
      "The max three ctr are as follows \n",
      "|    | day_of_week   |     ctr |   visits |   clicked |\n",
      "|---:|:--------------|--------:|---------:|----------:|\n",
      "|  3 | Sunday        | 18.2583 |   946256 |    172770 |\n",
      "|  2 | Saturday      | 18.2364 |   831864 |    151702 |\n",
      "|  1 | Monday        | 18.1347 |   797599 |    144642 |\n",
      "--------------------------------------\n",
      "The bottom three ctr are as follows \n",
      "|    | day_of_week   |     ctr |   visits |   clicked |\n",
      "|---:|:--------------|--------:|---------:|----------:|\n",
      "|  6 | Wednesday     | 15.7041 |  2269945 |    356475 |\n",
      "|  5 | Tuesday       | 16.1844 |  2327181 |    376641 |\n",
      "|  0 | Friday        | 17.4627 |   824707 |    144016 |\n",
      "##################################\n"
     ]
    },
    {
     "name": "stdout",
     "output_type": "stream",
     "text": [
      "###################################\n",
      "Total number of day are 10\n",
      "-------------------------------------\n",
      "The max three ctr are as follows \n",
      "|    |   day |     ctr |   visits |   clicked |\n",
      "|---:|------:|--------:|---------:|----------:|\n",
      "|  5 |    26 | 18.2583 |   946256 |    172770 |\n",
      "|  4 |    25 | 18.2364 |   831864 |    151702 |\n",
      "|  2 |    23 | 18.2315 |   959027 |    174845 |\n",
      "--------------------------------------\n",
      "The bottom three ctr are as follows \n",
      "|    |   day |     ctr |           visits |   clicked |\n",
      "|---:|------:|--------:|-----------------:|----------:|\n",
      "|  7 |    28 | 15.213  |      1.30758e+06 |    198923 |\n",
      "|  8 |    29 | 15.6933 | 948635           |    148872 |\n",
      "|  1 |    22 | 15.7119 |      1.32131e+06 |    207603 |\n",
      "##################################\n",
      "###################################\n",
      "Total number of time are 24\n",
      "-------------------------------------\n",
      "The max three ctr are as follows \n",
      "|    |   time |     ctr |   visits |   clicked |\n",
      "|---:|-------:|--------:|---------:|----------:|\n",
      "|  1 |      1 | 18.6778 |   243942 |     45563 |\n",
      "| 15 |     15 | 18.0468 |   515311 |     92997 |\n",
      "| 16 |     16 | 17.9714 |   507117 |     91136 |\n",
      "--------------------------------------\n",
      "The bottom three ctr are as follows \n",
      "|    |   time |     ctr |   visits |   clicked |\n",
      "|---:|-------:|--------:|---------:|----------:|\n",
      "|  4 |      4 | 15.8773 |   472296 |     74988 |\n",
      "|  9 |      9 | 16.0202 |   563058 |     90203 |\n",
      "| 20 |     20 | 16.0797 |   277648 |     44645 |\n",
      "##################################\n"
     ]
    }
   ],
   "source": [
    "for col_name in train.columns:\n",
    "    if col_name not in skip_col:\n",
    "        evaluate(train,col_name)"
   ]
  },
  {
   "cell_type": "code",
   "execution_count": null,
   "id": "b3bf6c43",
   "metadata": {},
   "outputs": [],
   "source": []
  }
 ],
 "metadata": {
  "kernelspec": {
   "display_name": "Python 3 (ipykernel)",
   "language": "python",
   "name": "python3"
  },
  "language_info": {
   "codemirror_mode": {
    "name": "ipython",
    "version": 3
   },
   "file_extension": ".py",
   "mimetype": "text/x-python",
   "name": "python",
   "nbconvert_exporter": "python",
   "pygments_lexer": "ipython3",
   "version": "3.10.4"
  },
  "toc": {
   "base_numbering": 1,
   "nav_menu": {},
   "number_sections": true,
   "sideBar": true,
   "skip_h1_title": false,
   "title_cell": "Table of Contents",
   "title_sidebar": "Contents",
   "toc_cell": false,
   "toc_position": {},
   "toc_section_display": true,
   "toc_window_display": false
  }
 },
 "nbformat": 4,
 "nbformat_minor": 5
}
